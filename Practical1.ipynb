{
 "cells": [
  {
   "cell_type": "markdown",
   "metadata": {},
   "source": [
    "# Practical 1\n",
    "\n",
    "**This is an individual assignment.**"
   ]
  },
  {
   "cell_type": "markdown",
   "metadata": {},
   "source": [
    "---"
   ]
  },
  {
   "cell_type": "markdown",
   "metadata": {},
   "source": [
    "# Question 1 (2 points)"
   ]
  },
  {
   "cell_type": "markdown",
   "metadata": {},
   "source": [
    "**Suppose we have some binary data, $x_i\\in\\{0,1\\}$. The training data is as follows:**\n",
    "\n",
    "| $x$ | $t$ |\n",
    "| -- | -- | \n",
    "| $0$  | $[-1,1]^T$ |\n",
    "| $0$  | $[-1,-2]^T$ |\n",
    "| $0$  | $[-1,-1]^T$ |\n",
    "| $1$  | $[1,1]^T$ |\n",
    "| $1$  | $[1,2]^T$ |\n",
    "| $1$  | $[2,1]^T$ |\n",
    "\n",
    "**Let us embed each $x_i$ into a 2-D feature space using the basis function:**\n",
    "\n",
    "\\begin{align*}\n",
    "\\phi(0) = [1,0]^T, \\;\\;\\;\\;\\; \\phi(1)=[0,1]^T\n",
    "\\end{align*}\n",
    "\n",
    "**Consider the multiple (*Multiple linear regression refers to situations in which the model predicts more than one variable.*) linear regression model $y=\\mathbf{W}\\phi(x)$, where $\\mathbf{W}$ is a $2\\times 2$ matrix. Compute the solution for $\\mathbf{W}$ using the Least Squares objective function.**"
   ]
  },
  {
   "cell_type": "code",
   "execution_count": 13,
   "metadata": {},
   "outputs": [
    {
     "name": "stdout",
     "output_type": "stream",
     "text": [
      "[[-1.         -0.66666667]\n",
      " [ 1.33333333  1.33333333]]\n"
     ]
    }
   ],
   "source": [
    "import numpy as np\n",
    "X=np.array([[1,0],[1,0],[1,0],[0,1],[0,1],[0,1]])\n",
    "t=np.array([[-1,1], [-1,-2], [-1,-1], [1,1], [1,2], [2,1]])\n",
    "w=np.linalg.inv(X.T@X)@X.T@t\n",
    "print (w)"
   ]
  },
  {
   "cell_type": "code",
   "execution_count": null,
   "metadata": {},
   "outputs": [],
   "source": []
  },
  {
   "cell_type": "code",
   "execution_count": null,
   "metadata": {},
   "outputs": [],
   "source": []
  },
  {
   "cell_type": "markdown",
   "metadata": {},
   "source": [
    "---"
   ]
  },
  {
   "cell_type": "markdown",
   "metadata": {},
   "source": [
    "# Question 2 (2 points)"
   ]
  },
  {
   "cell_type": "markdown",
   "metadata": {},
   "source": [
    "**Consider a training dataset $\\{(x_i,t_i)\\}_{i=1}^N$ where $x_i\\in\\mathbb{R}^D$, $t_i\\in\\mathbb{R}$ and $D$ is the feature space dimensionality. Suppose you are training a linear regression model, $y(x)=\\mathbf{w}^T\\mathbf{x}+w_0$. Answer the following questions:**"
   ]
  },
  {
   "cell_type": "markdown",
   "metadata": {},
   "source": [
    "1. (0.5 points) **Consider the objective function:**\n",
    "\n",
    "\\begin{align*}\n",
    "J(\\mathbf{w}) = \\sum_{i=1}^N (t_i - y(x_i))^2 + \\lambda R(\\mathbf{w})\n",
    "\\end{align*}\n",
    "\n",
    "**What is the role of the regularizer $R(\\mathbf{w})$? What is the effect of changing the value of $\\lambda$?**"
   ]
  },
  {
   "cell_type": "markdown",
   "metadata": {},
   "source": [
    "The regularizer R(w) is a function that penalizes certain properties of the weight vector w, typically to prevent overfitting and improve the generalization of the model. Regularization introduces a constraint or preference for simpler models by discouraging excessively large values of the weights."
   ]
  },
  {
   "cell_type": "markdown",
   "metadata": {},
   "source": [
    "The value of λ controls the balance between fitting the data and applying regularization, A small λ leads to a model that prioritizes fitting the training data (risk of overfitting). A large λ enforces stronger regularization, reducing the model's complexity (risk of underfitting)"
   ]
  },
  {
   "cell_type": "code",
   "execution_count": null,
   "metadata": {},
   "outputs": [],
   "source": []
  },
  {
   "cell_type": "markdown",
   "metadata": {},
   "source": [
    "2. (0.5 points) **How would you train a linear regression model that is robust to outliers?**"
   ]
  },
  {
   "cell_type": "markdown",
   "metadata": {},
   "source": [
    "To modify the objective function so that it is less sensitive to the large errors caused by outliers.\n",
    "1.Use Huber Loss Instead of Squared Error 2.Use Quantile Regression 3. Regularization Techniques 4.Random Sample Consensus:Iteratively fits the model to random subsets"
   ]
  },
  {
   "cell_type": "code",
   "execution_count": null,
   "metadata": {},
   "outputs": [],
   "source": []
  },
  {
   "cell_type": "code",
   "execution_count": null,
   "metadata": {},
   "outputs": [],
   "source": []
  },
  {
   "cell_type": "markdown",
   "metadata": {},
   "source": [
    "3. (0.5 points) **Suppose you want to minimize the *squared error* with a *Lasso regularizer*. Write down the objective function.**"
   ]
  },
  {
   "cell_type": "markdown",
   "metadata": {},
   "source": [
    "The sum of squared errors aims to fit the data by minimizing the error between predicted and actual values.\n",
    "Lasso regularization encourages sparsity in the weights by adding a penalty proportional to the absolute values of the weights w. A larger λ results in more weights being driven to zero, which effectively performs feature selection."
   ]
  },
  {
   "cell_type": "code",
   "execution_count": null,
   "metadata": {},
   "outputs": [],
   "source": []
  },
  {
   "cell_type": "code",
   "execution_count": null,
   "metadata": {},
   "outputs": [],
   "source": []
  },
  {
   "cell_type": "markdown",
   "metadata": {},
   "source": [
    "4. (0.5 points) **In scenarios where at least two dimensions exhibit collinearity, meaning they are linearly dependent, which regularization technique would you employ in your linear regression model while preserving all dimensions?**"
   ]
  },
  {
   "cell_type": "markdown",
   "metadata": {},
   "source": [
    "Ridge Regression is preferred when dealing with collinearity and when you want to retain all dimensions. It provides a more stable and robust solution by shrinking coefficients rather than eliminating features.\n",
    "Lasso Regression might be used if you are interested in feature selection, but it may not be suitable if preserving all dimensions is important, especially in the presence of collinearity.\n",
    "Ridge Regression is the recommended technique for scenarios with collinearity where retaining all features is crucial."
   ]
  },
  {
   "cell_type": "code",
   "execution_count": null,
   "metadata": {},
   "outputs": [],
   "source": []
  },
  {
   "cell_type": "code",
   "execution_count": null,
   "metadata": {},
   "outputs": [],
   "source": []
  },
  {
   "cell_type": "markdown",
   "metadata": {},
   "source": [
    "---"
   ]
  },
  {
   "cell_type": "code",
   "execution_count": null,
   "metadata": {},
   "outputs": [],
   "source": [
    "# Import necessary libraries and magics\n",
    "\n"
   ]
  },
  {
   "cell_type": "markdown",
   "metadata": {},
   "source": [
    "# Question 4 (3 points)"
   ]
  },
  {
   "cell_type": "markdown",
   "metadata": {},
   "source": [
    "**In this problem, you will be working with the beer dataset with information about the foam height (in cm) from 3 brands of beer over 15 measurement times (in seconds) after the time of pour.**"
   ]
  },
  {
   "cell_type": "code",
   "execution_count": 138,
   "metadata": {},
   "outputs": [
    {
     "data": {
      "text/html": [
       "<div>\n",
       "<style scoped>\n",
       "    .dataframe tbody tr th:only-of-type {\n",
       "        vertical-align: middle;\n",
       "    }\n",
       "\n",
       "    .dataframe tbody tr th {\n",
       "        vertical-align: top;\n",
       "    }\n",
       "\n",
       "    .dataframe thead th {\n",
       "        text-align: right;\n",
       "    }\n",
       "</style>\n",
       "<table border=\"1\" class=\"dataframe\">\n",
       "  <thead>\n",
       "    <tr style=\"text-align: right;\">\n",
       "      <th></th>\n",
       "      <th>Time</th>\n",
       "      <th>Erdinger</th>\n",
       "      <th>Augustinerbrau</th>\n",
       "      <th>Budweiser</th>\n",
       "    </tr>\n",
       "  </thead>\n",
       "  <tbody>\n",
       "    <tr>\n",
       "      <th>0</th>\n",
       "      <td>0</td>\n",
       "      <td>17.0</td>\n",
       "      <td>14.0</td>\n",
       "      <td>14.0</td>\n",
       "    </tr>\n",
       "    <tr>\n",
       "      <th>1</th>\n",
       "      <td>15</td>\n",
       "      <td>16.1</td>\n",
       "      <td>11.8</td>\n",
       "      <td>12.1</td>\n",
       "    </tr>\n",
       "    <tr>\n",
       "      <th>2</th>\n",
       "      <td>30</td>\n",
       "      <td>14.9</td>\n",
       "      <td>10.5</td>\n",
       "      <td>10.9</td>\n",
       "    </tr>\n",
       "    <tr>\n",
       "      <th>3</th>\n",
       "      <td>45</td>\n",
       "      <td>14.0</td>\n",
       "      <td>9.3</td>\n",
       "      <td>10.0</td>\n",
       "    </tr>\n",
       "    <tr>\n",
       "      <th>4</th>\n",
       "      <td>60</td>\n",
       "      <td>13.2</td>\n",
       "      <td>8.5</td>\n",
       "      <td>9.3</td>\n",
       "    </tr>\n",
       "    <tr>\n",
       "      <th>5</th>\n",
       "      <td>75</td>\n",
       "      <td>12.5</td>\n",
       "      <td>7.7</td>\n",
       "      <td>8.6</td>\n",
       "    </tr>\n",
       "    <tr>\n",
       "      <th>6</th>\n",
       "      <td>90</td>\n",
       "      <td>11.9</td>\n",
       "      <td>7.1</td>\n",
       "      <td>8.0</td>\n",
       "    </tr>\n",
       "    <tr>\n",
       "      <th>7</th>\n",
       "      <td>105</td>\n",
       "      <td>11.2</td>\n",
       "      <td>6.5</td>\n",
       "      <td>7.5</td>\n",
       "    </tr>\n",
       "    <tr>\n",
       "      <th>8</th>\n",
       "      <td>120</td>\n",
       "      <td>10.7</td>\n",
       "      <td>6.0</td>\n",
       "      <td>7.0</td>\n",
       "    </tr>\n",
       "    <tr>\n",
       "      <th>9</th>\n",
       "      <td>150</td>\n",
       "      <td>9.7</td>\n",
       "      <td>5.3</td>\n",
       "      <td>6.2</td>\n",
       "    </tr>\n",
       "    <tr>\n",
       "      <th>10</th>\n",
       "      <td>180</td>\n",
       "      <td>8.9</td>\n",
       "      <td>4.4</td>\n",
       "      <td>5.5</td>\n",
       "    </tr>\n",
       "    <tr>\n",
       "      <th>11</th>\n",
       "      <td>210</td>\n",
       "      <td>8.3</td>\n",
       "      <td>3.5</td>\n",
       "      <td>4.5</td>\n",
       "    </tr>\n",
       "    <tr>\n",
       "      <th>12</th>\n",
       "      <td>240</td>\n",
       "      <td>7.5</td>\n",
       "      <td>2.9</td>\n",
       "      <td>3.5</td>\n",
       "    </tr>\n",
       "    <tr>\n",
       "      <th>13</th>\n",
       "      <td>300</td>\n",
       "      <td>6.3</td>\n",
       "      <td>1.3</td>\n",
       "      <td>2.0</td>\n",
       "    </tr>\n",
       "    <tr>\n",
       "      <th>14</th>\n",
       "      <td>360</td>\n",
       "      <td>5.2</td>\n",
       "      <td>0.7</td>\n",
       "      <td>0.9</td>\n",
       "    </tr>\n",
       "  </tbody>\n",
       "</table>\n",
       "</div>"
      ],
      "text/plain": [
       "    Time  Erdinger  Augustinerbrau  Budweiser\n",
       "0      0      17.0            14.0       14.0\n",
       "1     15      16.1            11.8       12.1\n",
       "2     30      14.9            10.5       10.9\n",
       "3     45      14.0             9.3       10.0\n",
       "4     60      13.2             8.5        9.3\n",
       "5     75      12.5             7.7        8.6\n",
       "6     90      11.9             7.1        8.0\n",
       "7    105      11.2             6.5        7.5\n",
       "8    120      10.7             6.0        7.0\n",
       "9    150       9.7             5.3        6.2\n",
       "10   180       8.9             4.4        5.5\n",
       "11   210       8.3             3.5        4.5\n",
       "12   240       7.5             2.9        3.5\n",
       "13   300       6.3             1.3        2.0\n",
       "14   360       5.2             0.7        0.9"
      ]
     },
     "execution_count": 138,
     "metadata": {},
     "output_type": "execute_result"
    }
   ],
   "source": [
    "import pandas as pd\n",
    "import numpy as np\n",
    "import matplotlib.pyplot as plt\n",
    "\n",
    "beer_data = pd.read_csv('beer_foam.csv')\n",
    "\n",
    "beer_data"
   ]
  },
  {
   "cell_type": "markdown",
   "metadata": {},
   "source": [
    "**Consider the first 12 samples as the training set, and the last 3 samples as the test set.**"
   ]
  },
  {
   "cell_type": "code",
   "execution_count": 187,
   "metadata": {},
   "outputs": [],
   "source": [
    "x_train = beer_data['Time'].to_numpy()[:12]\n",
    "x_test  = beer_data['Time'].to_numpy()[12:]\n",
    "\n",
    "# Note that t_train and t_test contain 3 target vectors. \n",
    "# You should build a mapper function to predict 1 target vector at a time.\n",
    "t_train = beer_data.drop('Time', axis=1).iloc[:12]\n",
    "t_test  = beer_data.drop('Time', axis=1).iloc[12:]"
   ]
  },
  {
   "cell_type": "markdown",
   "metadata": {},
   "source": [
    "**Use the Python code implementation we built in class to help you train a mapper function of the form:**\n",
    "\n",
    "$$y(x) = \\exp\\left(\\sum_{j=0}^M w_jx^j\\right) = \\exp (\\mathbf{X}\\mathbf{w})$$"
   ]
  },
  {
   "cell_type": "markdown",
   "metadata": {},
   "source": [
    "**Answer the following questions:**\n",
    "\n",
    "1. (1 point) **For each brand, train a mapper function with $M=2$ using the training data. Plot the model prediction.**"
   ]
  },
  {
   "cell_type": "code",
   "execution_count": 185,
   "metadata": {},
   "outputs": [
    {
     "data": {
      "image/png": "[encoded data removed]",
      "text/plain": [
       "<Figure size 640x480 with 1 Axes>"
      ]
     },
     "metadata": {},
     "output_type": "display_data"
    },
    {
     "data": {
      "image/png": "[encoded data removed]",
      "text/plain": [
       "<Figure size 640x480 with 1 Axes>"
      ]
     },
     "metadata": {},
     "output_type": "display_data"
    },
    {
     "data": {
      "image/png": "[encoded data removed]",
      "text/plain": [
       "<Figure size 640x480 with 1 Axes>"
      ]
     },
     "metadata": {},
     "output_type": "display_data"
    }
   ],
   "source": [
    "# Function to create polynomial features (degree 2)\n",
    "def create_polynomial_features(x, degree=2):\n",
    "    X = np.ones((x.shape[0], degree + 1))\n",
    "    for i in range(1, degree + 1):\n",
    "        X[:, i] = x ** i\n",
    "    return X\n",
    "\n",
    "# Function to fit the model for each brand\n",
    "def train_mapper(x, t, degree=2):\n",
    "    # Create polynomial features\n",
    "    X = create_polynomial_features(x, degree)\n",
    "    \n",
    "    # Fit the weights using least squares\n",
    "    w = np.linalg.lstsq(X, np.log(t), rcond=None)[0]  # Solve for w\n",
    "    \n",
    "    # Predict y(x) = exp(X * w)\n",
    "    y_pred = np.exp(X @ w)\n",
    "    \n",
    "    return y_pred, w\n",
    "\n",
    "# Train models for each brand\n",
    "brands = t_train.columns\n",
    "for brand in brands:\n",
    "    # Get target values for the current brand\n",
    "    t_train_brand = t_train[brand].to_numpy()\n",
    "    \n",
    "    # Train the mapper function\n",
    "    y_train_pred, w = train_mapper(x_train, t_train_brand)\n",
    "    \n",
    "    # Plot the model prediction vs actual data\n",
    "    plt.scatter(x_train, t_train_brand, label='train Data', color='blue')\n",
    "    plt.plot(x_train, y_train_pred, label='Model Prediction', color='red')\n",
    "    plt.title(f\"Foam Height Prediction for {brand}\")\n",
    "    plt.xlabel(\"Time (seconds)\")\n",
    "    plt.ylabel(\"Foam Height (cm)\")\n",
    "    plt.legend()\n",
    "    plt.show()"
   ]
  },
  {
   "cell_type": "markdown",
   "metadata": {},
   "source": [
    "2. (1 point) **Use each trained model to make predictions for the test data.**"
   ]
  },
  {
   "cell_type": "code",
   "execution_count": 198,
   "metadata": {},
   "outputs": [
    {
     "data": {
      "image/png": "[encoded data removed]",
      "text/plain": [
       "<Figure size 640x480 with 1 Axes>"
      ]
     },
     "metadata": {},
     "output_type": "display_data"
    },
    {
     "data": {
      "image/png": "[encoded data removed]",
      "text/plain": [
       "<Figure size 640x480 with 1 Axes>"
      ]
     },
     "metadata": {},
     "output_type": "display_data"
    },
    {
     "data": {
      "image/png": "[encoded data removed]",
      "text/plain": [
       "<Figure size 640x480 with 1 Axes>"
      ]
     },
     "metadata": {},
     "output_type": "display_data"
    }
   ],
   "source": [
    "# Function to make predictions using the trained model\n",
    "def predict(x, w, degree=2):\n",
    "    # Create polynomial features\n",
    "    X = create_polynomial_features(x, degree)\n",
    "    \n",
    "    # Predict y(x) = exp(X * w)\n",
    "    y_pred = np.exp(X @ w)\n",
    "    \n",
    "    return y_pred\n",
    "\n",
    "# Predict foam heights for the test data and plot the results\n",
    "for brand in brands:\n",
    "    # Get target values for the current brand (training data)\n",
    "    t_train_brand = t_train[brand].to_numpy()\n",
    "    \n",
    "    # Train the mapper function\n",
    "    y_train_pred, w = train_mapper(x_train, t_train_brand)\n",
    "    \n",
    "    # Get the target values for the test data (ground truth)\n",
    "    t_test_brand = t_test[brand].to_numpy()\n",
    "    \n",
    "    # Predict the foam height for the test data\n",
    "    y_test_pred = predict(x_test, w)\n",
    "    \n",
    "    # Plot the model prediction vs actual test data\n",
    "    plt.scatter(x_test, t_test_brand, label='Test Data', color='blue')\n",
    "    plt.plot(x_test, y_test_pred, label='Predicted Test Data', color='red')\n",
    "    plt.title(f\"Test Foam Height Prediction for {brand}\")\n",
    "    plt.xlabel(\"Time (seconds)\")\n",
    "    plt.ylabel(\"Foam Height (cm)\")\n",
    "    plt.legend()\n",
    "    plt.show()"
   ]
  },
  {
   "cell_type": "markdown",
   "metadata": {},
   "source": [
    "3. (1 point) **For each brand, predict foam height at $t=450$ seconds.**"
   ]
  },
  {
   "cell_type": "code",
   "execution_count": 151,
   "metadata": {},
   "outputs": [
    {
     "name": "stdout",
     "output_type": "stream",
     "text": [
      "Predicted foam height for Erdinger at t=450 seconds: 6.39 cm\n",
      "Predicted foam height for Augustinerbrau at t=450 seconds: 1.72 cm\n",
      "Predicted foam height for Budweiser at t=450 seconds: 2.56 cm\n"
     ]
    }
   ],
   "source": [
    "# Function to predict foam height at a specific time point (e.g., t=450)\n",
    "def predict_at_time(t, w, degree=2):\n",
    "    # Create polynomial features for the single time point\n",
    "    X = create_polynomial_features(np.array([t]), degree)\n",
    "    \n",
    "    # Predict y(x) = exp(X * w)\n",
    "    y_pred = np.exp(X @ w)\n",
    "    \n",
    "    return y_pred[0]  # Return the predicted foam height\n",
    "# Predict foam heights at t=450 for each brand\n",
    "t_450 = 450\n",
    "for brand in brands:\n",
    "    # Get target values for the current brand (training data)\n",
    "    t_train_brand = t_train[brand].to_numpy()\n",
    "    \n",
    "    # Train the mapper function\n",
    "    _, w = train_mapper(x_train, t_train_brand)\n",
    "    \n",
    "    # Predict foam height at t=450 seconds\n",
    "    foam_height_450 = predict_at_time(t_450, w)\n",
    "    \n",
    "    # Print the result for the brand\n",
    "    print(f\"Predicted foam height for {brand} at t=450 seconds: {foam_height_450:.2f} cm\")"
   ]
  },
  {
   "cell_type": "markdown",
   "metadata": {},
   "source": [
    "---"
   ]
  },
  {
   "cell_type": "markdown",
   "metadata": {},
   "source": [
    "# Question 5 (2 points)"
   ]
  },
  {
   "cell_type": "markdown",
   "metadata": {},
   "source": [
    "**Consider the [**computer hardware dataset**](https://archive.ics.uci.edu/ml/datasets/Computer+Hardware). The goal is to predict the estimated relative performance (ERP) of a CPU core as a function of 9 features (or independent variables):**\n",
    "\n",
    "* **Vendor name:** 30 (adviser, amdahl,apollo, basf, bti, burroughs, c.r.d, cambex, cdc, dec, dg, formation, four-phase, gould, honeywell, hp, ibm, ipl, magnuson, microdata, nas, ncr, nixdorf, perkin-elmer, prime, siemens, sperry, sratus, wang)\n",
    "* **Model Name:** many unique symbols\n",
    "* **MYCT:** machine cycle time in nanoseconds (integer)\n",
    "* **MMIN:** minimum main memory in kilobytes (integer)\n",
    "* **MMAX:** maximum main memory in kilobytes (integer)\n",
    "* **CACH:** cache memory in kilobytes (integer)\n",
    "* **CHMIN:** minimum channels in units (integer)\n",
    "* **CHMAX:** maximum channels in units (integer)\n",
    "* **PRP:** published relative performance (integer)\n",
    "\n",
    "**And the target is:**\n",
    "\n",
    "* **ERP:** estimated relative performance from the original article (integer)."
   ]
  },
  {
   "cell_type": "code",
   "execution_count": 175,
   "metadata": {},
   "outputs": [
    {
     "data": {
      "text/html": [
       "<div>\n",
       "<style scoped>\n",
       "    .dataframe tbody tr th:only-of-type {\n",
       "        vertical-align: middle;\n",
       "    }\n",
       "\n",
       "    .dataframe tbody tr th {\n",
       "        vertical-align: top;\n",
       "    }\n",
       "\n",
       "    .dataframe thead th {\n",
       "        text-align: right;\n",
       "    }\n",
       "</style>\n",
       "<table border=\"1\" class=\"dataframe\">\n",
       "  <thead>\n",
       "    <tr style=\"text-align: right;\">\n",
       "      <th></th>\n",
       "      <th>Vendor</th>\n",
       "      <th>Model Name</th>\n",
       "      <th>MYCT</th>\n",
       "      <th>MMIN</th>\n",
       "      <th>MMAX</th>\n",
       "      <th>CACH</th>\n",
       "      <th>CHMIN</th>\n",
       "      <th>CHMAX</th>\n",
       "      <th>PRP</th>\n",
       "      <th>ERP</th>\n",
       "    </tr>\n",
       "  </thead>\n",
       "  <tbody>\n",
       "    <tr>\n",
       "      <th>0</th>\n",
       "      <td>adviser</td>\n",
       "      <td>32/60</td>\n",
       "      <td>125</td>\n",
       "      <td>256</td>\n",
       "      <td>6000</td>\n",
       "      <td>256</td>\n",
       "      <td>16</td>\n",
       "      <td>128</td>\n",
       "      <td>198</td>\n",
       "      <td>199</td>\n",
       "    </tr>\n",
       "    <tr>\n",
       "      <th>1</th>\n",
       "      <td>amdahl</td>\n",
       "      <td>470v/7</td>\n",
       "      <td>29</td>\n",
       "      <td>8000</td>\n",
       "      <td>32000</td>\n",
       "      <td>32</td>\n",
       "      <td>8</td>\n",
       "      <td>32</td>\n",
       "      <td>269</td>\n",
       "      <td>253</td>\n",
       "    </tr>\n",
       "    <tr>\n",
       "      <th>2</th>\n",
       "      <td>amdahl</td>\n",
       "      <td>470v/7a</td>\n",
       "      <td>29</td>\n",
       "      <td>8000</td>\n",
       "      <td>32000</td>\n",
       "      <td>32</td>\n",
       "      <td>8</td>\n",
       "      <td>32</td>\n",
       "      <td>220</td>\n",
       "      <td>253</td>\n",
       "    </tr>\n",
       "    <tr>\n",
       "      <th>3</th>\n",
       "      <td>amdahl</td>\n",
       "      <td>470v/7b</td>\n",
       "      <td>29</td>\n",
       "      <td>8000</td>\n",
       "      <td>32000</td>\n",
       "      <td>32</td>\n",
       "      <td>8</td>\n",
       "      <td>32</td>\n",
       "      <td>172</td>\n",
       "      <td>253</td>\n",
       "    </tr>\n",
       "    <tr>\n",
       "      <th>4</th>\n",
       "      <td>amdahl</td>\n",
       "      <td>470v/7c</td>\n",
       "      <td>29</td>\n",
       "      <td>8000</td>\n",
       "      <td>16000</td>\n",
       "      <td>32</td>\n",
       "      <td>8</td>\n",
       "      <td>16</td>\n",
       "      <td>132</td>\n",
       "      <td>132</td>\n",
       "    </tr>\n",
       "    <tr>\n",
       "      <th>...</th>\n",
       "      <td>...</td>\n",
       "      <td>...</td>\n",
       "      <td>...</td>\n",
       "      <td>...</td>\n",
       "      <td>...</td>\n",
       "      <td>...</td>\n",
       "      <td>...</td>\n",
       "      <td>...</td>\n",
       "      <td>...</td>\n",
       "      <td>...</td>\n",
       "    </tr>\n",
       "    <tr>\n",
       "      <th>204</th>\n",
       "      <td>sperry</td>\n",
       "      <td>80/8</td>\n",
       "      <td>124</td>\n",
       "      <td>1000</td>\n",
       "      <td>8000</td>\n",
       "      <td>0</td>\n",
       "      <td>1</td>\n",
       "      <td>8</td>\n",
       "      <td>42</td>\n",
       "      <td>37</td>\n",
       "    </tr>\n",
       "    <tr>\n",
       "      <th>205</th>\n",
       "      <td>sperry</td>\n",
       "      <td>90/80-model-3</td>\n",
       "      <td>98</td>\n",
       "      <td>1000</td>\n",
       "      <td>8000</td>\n",
       "      <td>32</td>\n",
       "      <td>2</td>\n",
       "      <td>8</td>\n",
       "      <td>46</td>\n",
       "      <td>50</td>\n",
       "    </tr>\n",
       "    <tr>\n",
       "      <th>206</th>\n",
       "      <td>sratus</td>\n",
       "      <td>32</td>\n",
       "      <td>125</td>\n",
       "      <td>2000</td>\n",
       "      <td>8000</td>\n",
       "      <td>0</td>\n",
       "      <td>2</td>\n",
       "      <td>14</td>\n",
       "      <td>52</td>\n",
       "      <td>41</td>\n",
       "    </tr>\n",
       "    <tr>\n",
       "      <th>207</th>\n",
       "      <td>wang</td>\n",
       "      <td>vs-100</td>\n",
       "      <td>480</td>\n",
       "      <td>512</td>\n",
       "      <td>8000</td>\n",
       "      <td>32</td>\n",
       "      <td>0</td>\n",
       "      <td>0</td>\n",
       "      <td>67</td>\n",
       "      <td>47</td>\n",
       "    </tr>\n",
       "    <tr>\n",
       "      <th>208</th>\n",
       "      <td>wang</td>\n",
       "      <td>vs-90</td>\n",
       "      <td>480</td>\n",
       "      <td>1000</td>\n",
       "      <td>4000</td>\n",
       "      <td>0</td>\n",
       "      <td>0</td>\n",
       "      <td>0</td>\n",
       "      <td>45</td>\n",
       "      <td>25</td>\n",
       "    </tr>\n",
       "  </tbody>\n",
       "</table>\n",
       "<p>209 rows × 10 columns</p>\n",
       "</div>"
      ],
      "text/plain": [
       "      Vendor     Model Name  MYCT  MMIN   MMAX  CACH  CHMIN  CHMAX  PRP  ERP\n",
       "0    adviser          32/60   125   256   6000   256     16    128  198  199\n",
       "1     amdahl         470v/7    29  8000  32000    32      8     32  269  253\n",
       "2     amdahl        470v/7a    29  8000  32000    32      8     32  220  253\n",
       "3     amdahl        470v/7b    29  8000  32000    32      8     32  172  253\n",
       "4     amdahl        470v/7c    29  8000  16000    32      8     16  132  132\n",
       "..       ...            ...   ...   ...    ...   ...    ...    ...  ...  ...\n",
       "204   sperry           80/8   124  1000   8000     0      1      8   42   37\n",
       "205   sperry  90/80-model-3    98  1000   8000    32      2      8   46   50\n",
       "206   sratus             32   125  2000   8000     0      2     14   52   41\n",
       "207     wang         vs-100   480   512   8000    32      0      0   67   47\n",
       "208     wang          vs-90   480  1000   4000     0      0      0   45   25\n",
       "\n",
       "[209 rows x 10 columns]"
      ]
     },
     "execution_count": 175,
     "metadata": {},
     "output_type": "execute_result"
    }
   ],
   "source": [
    "import pandas as pd\n",
    "from sklearn.linear_model import LinearRegression\n",
    "from sklearn.model_selection import train_test_split\n",
    "from sklearn.metrics import mean_squared_error, r2_score\n",
    "\n",
    "hardware=pd.read_csv('machine.data',\n",
    "                 names=['Vendor','Model Name','MYCT','MMIN','MMAX','CACH','CHMIN','CHMAX','PRP','ERP'])\n",
    "hardware"
   ]
  },
  {
   "cell_type": "code",
   "execution_count": 165,
   "metadata": {},
   "outputs": [
    {
     "data": {
      "text/html": [
       "<div>\n",
       "<style scoped>\n",
       "    .dataframe tbody tr th:only-of-type {\n",
       "        vertical-align: middle;\n",
       "    }\n",
       "\n",
       "    .dataframe tbody tr th {\n",
       "        vertical-align: top;\n",
       "    }\n",
       "\n",
       "    .dataframe thead th {\n",
       "        text-align: right;\n",
       "    }\n",
       "</style>\n",
       "<table border=\"1\" class=\"dataframe\">\n",
       "  <thead>\n",
       "    <tr style=\"text-align: right;\">\n",
       "      <th></th>\n",
       "      <th>Vendor</th>\n",
       "      <th>Model Name</th>\n",
       "      <th>MYCT</th>\n",
       "      <th>MMIN</th>\n",
       "      <th>MMAX</th>\n",
       "      <th>CACH</th>\n",
       "      <th>CHMIN</th>\n",
       "      <th>CHMAX</th>\n",
       "      <th>PRP</th>\n",
       "    </tr>\n",
       "  </thead>\n",
       "  <tbody>\n",
       "    <tr>\n",
       "      <th>0</th>\n",
       "      <td>adviser</td>\n",
       "      <td>32/60</td>\n",
       "      <td>125</td>\n",
       "      <td>256</td>\n",
       "      <td>6000</td>\n",
       "      <td>256</td>\n",
       "      <td>16</td>\n",
       "      <td>128</td>\n",
       "      <td>198</td>\n",
       "    </tr>\n",
       "    <tr>\n",
       "      <th>1</th>\n",
       "      <td>amdahl</td>\n",
       "      <td>470v/7</td>\n",
       "      <td>29</td>\n",
       "      <td>8000</td>\n",
       "      <td>32000</td>\n",
       "      <td>32</td>\n",
       "      <td>8</td>\n",
       "      <td>32</td>\n",
       "      <td>269</td>\n",
       "    </tr>\n",
       "    <tr>\n",
       "      <th>2</th>\n",
       "      <td>amdahl</td>\n",
       "      <td>470v/7a</td>\n",
       "      <td>29</td>\n",
       "      <td>8000</td>\n",
       "      <td>32000</td>\n",
       "      <td>32</td>\n",
       "      <td>8</td>\n",
       "      <td>32</td>\n",
       "      <td>220</td>\n",
       "    </tr>\n",
       "    <tr>\n",
       "      <th>3</th>\n",
       "      <td>amdahl</td>\n",
       "      <td>470v/7b</td>\n",
       "      <td>29</td>\n",
       "      <td>8000</td>\n",
       "      <td>32000</td>\n",
       "      <td>32</td>\n",
       "      <td>8</td>\n",
       "      <td>32</td>\n",
       "      <td>172</td>\n",
       "    </tr>\n",
       "    <tr>\n",
       "      <th>4</th>\n",
       "      <td>amdahl</td>\n",
       "      <td>470v/7c</td>\n",
       "      <td>29</td>\n",
       "      <td>8000</td>\n",
       "      <td>16000</td>\n",
       "      <td>32</td>\n",
       "      <td>8</td>\n",
       "      <td>16</td>\n",
       "      <td>132</td>\n",
       "    </tr>\n",
       "    <tr>\n",
       "      <th>...</th>\n",
       "      <td>...</td>\n",
       "      <td>...</td>\n",
       "      <td>...</td>\n",
       "      <td>...</td>\n",
       "      <td>...</td>\n",
       "      <td>...</td>\n",
       "      <td>...</td>\n",
       "      <td>...</td>\n",
       "      <td>...</td>\n",
       "    </tr>\n",
       "    <tr>\n",
       "      <th>204</th>\n",
       "      <td>sperry</td>\n",
       "      <td>80/8</td>\n",
       "      <td>124</td>\n",
       "      <td>1000</td>\n",
       "      <td>8000</td>\n",
       "      <td>0</td>\n",
       "      <td>1</td>\n",
       "      <td>8</td>\n",
       "      <td>42</td>\n",
       "    </tr>\n",
       "    <tr>\n",
       "      <th>205</th>\n",
       "      <td>sperry</td>\n",
       "      <td>90/80-model-3</td>\n",
       "      <td>98</td>\n",
       "      <td>1000</td>\n",
       "      <td>8000</td>\n",
       "      <td>32</td>\n",
       "      <td>2</td>\n",
       "      <td>8</td>\n",
       "      <td>46</td>\n",
       "    </tr>\n",
       "    <tr>\n",
       "      <th>206</th>\n",
       "      <td>sratus</td>\n",
       "      <td>32</td>\n",
       "      <td>125</td>\n",
       "      <td>2000</td>\n",
       "      <td>8000</td>\n",
       "      <td>0</td>\n",
       "      <td>2</td>\n",
       "      <td>14</td>\n",
       "      <td>52</td>\n",
       "    </tr>\n",
       "    <tr>\n",
       "      <th>207</th>\n",
       "      <td>wang</td>\n",
       "      <td>vs-100</td>\n",
       "      <td>480</td>\n",
       "      <td>512</td>\n",
       "      <td>8000</td>\n",
       "      <td>32</td>\n",
       "      <td>0</td>\n",
       "      <td>0</td>\n",
       "      <td>67</td>\n",
       "    </tr>\n",
       "    <tr>\n",
       "      <th>208</th>\n",
       "      <td>wang</td>\n",
       "      <td>vs-90</td>\n",
       "      <td>480</td>\n",
       "      <td>1000</td>\n",
       "      <td>4000</td>\n",
       "      <td>0</td>\n",
       "      <td>0</td>\n",
       "      <td>0</td>\n",
       "      <td>45</td>\n",
       "    </tr>\n",
       "  </tbody>\n",
       "</table>\n",
       "<p>209 rows × 9 columns</p>\n",
       "</div>"
      ],
      "text/plain": [
       "      Vendor     Model Name  MYCT  MMIN   MMAX  CACH  CHMIN  CHMAX  PRP\n",
       "0    adviser          32/60   125   256   6000   256     16    128  198\n",
       "1     amdahl         470v/7    29  8000  32000    32      8     32  269\n",
       "2     amdahl        470v/7a    29  8000  32000    32      8     32  220\n",
       "3     amdahl        470v/7b    29  8000  32000    32      8     32  172\n",
       "4     amdahl        470v/7c    29  8000  16000    32      8     16  132\n",
       "..       ...            ...   ...   ...    ...   ...    ...    ...  ...\n",
       "204   sperry           80/8   124  1000   8000     0      1      8   42\n",
       "205   sperry  90/80-model-3    98  1000   8000    32      2      8   46\n",
       "206   sratus             32   125  2000   8000     0      2     14   52\n",
       "207     wang         vs-100   480   512   8000    32      0      0   67\n",
       "208     wang          vs-90   480  1000   4000     0      0      0   45\n",
       "\n",
       "[209 rows x 9 columns]"
      ]
     },
     "execution_count": 165,
     "metadata": {},
     "output_type": "execute_result"
    }
   ],
   "source": [
    "data = hardware.drop('ERP', axis=1)\n",
    "data"
   ]
  },
  {
   "cell_type": "code",
   "execution_count": 167,
   "metadata": {},
   "outputs": [
    {
     "data": {
      "text/plain": [
       "0      199\n",
       "1      253\n",
       "2      253\n",
       "3      253\n",
       "4      132\n",
       "      ... \n",
       "204     37\n",
       "205     50\n",
       "206     41\n",
       "207     47\n",
       "208     25\n",
       "Name: ERP, Length: 209, dtype: int64"
      ]
     },
     "execution_count": 167,
     "metadata": {},
     "output_type": "execute_result"
    }
   ],
   "source": [
    "target = hardware['ERP']\n",
    "target"
   ]
  },
  {
   "cell_type": "markdown",
   "metadata": {},
   "source": [
    "**Consider only the numerical features: MYCT, MMIN, MMAX, CACH, CHMIN, CHMAX, and PRP.**\n",
    "\n",
    "**Answer the following questions:**\n",
    "\n",
    "1. (0.5 points) **Partition the data randomly using an 80/20 split. See [sklearn.model_selection.train_test_split](https://scikit-learn.org/stable/modules/generated/sklearn.model_selection.train_test_split.html).**"
   ]
  },
  {
   "cell_type": "code",
   "execution_count": 179,
   "metadata": {},
   "outputs": [],
   "source": [
    "#  Load the dataset\n",
    "hardware = pd.read_csv('machine.data',\n",
    "                       names=['Vendor','Model Name','MYCT','MMIN','MMAX','CACH','CHMIN','CHMAX','PRP','ERP'])\n",
    "\n",
    "#  Select only the numerical features\n",
    "data = hardware[['MYCT', 'MMIN', 'MMAX', 'CACH', 'CHMIN', 'CHMAX', 'PRP']]\n",
    "target = hardware['ERP']\n",
    "\n",
    "# Split the data using train_test_split with an 80/20 split\n",
    "data_train, data_test, target_train, target_test = train_test_split(data, target, test_size=0.2, random_state=42)"
   ]
  },
  {
   "cell_type": "markdown",
   "metadata": {},
   "source": [
    "2. (1 point) **Train a multivariate regression model using the training data.**"
   ]
  },
  {
   "cell_type": "code",
   "execution_count": 171,
   "metadata": {},
   "outputs": [
    {
     "name": "stdout",
     "output_type": "stream",
     "text": [
      "Model coefficients: [ 0.03216256  0.00360426  0.00408698  0.32243938 -0.23783053  0.23001715\n",
      "  0.47875042]\n",
      "Model intercept: -29.841465383500548\n"
     ]
    }
   ],
   "source": [
    "#  Initialize the Linear Regression model\n",
    "model = LinearRegression()\n",
    "\n",
    "#  Fit the model on the training data\n",
    "model.fit(data_train, target_train)\n",
    "\n",
    "#  Print the model's coefficients and intercept\n",
    "print(\"Model coefficients:\", model.coef_)\n",
    "print(\"Model intercept:\", model.intercept_)"
   ]
  },
  {
   "cell_type": "markdown",
   "metadata": {},
   "source": [
    "3. (0.5 point) **Make predictions in the test set and report performance.**"
   ]
  },
  {
   "cell_type": "code",
   "execution_count": 177,
   "metadata": {},
   "outputs": [
    {
     "name": "stdout",
     "output_type": "stream",
     "text": [
      "Mean Squared Error (MSE) on the test set: 3007.89\n",
      "R-squared (R²) on the test set: 0.94\n"
     ]
    }
   ],
   "source": [
    "predictions = model.predict(data_test)\n",
    "\n",
    "mse = mean_squared_error(target_test, predictions)\n",
    "\n",
    "r2 = r2_score(target_test, predictions)\n",
    "\n",
    "print(f\"Mean Squared Error (MSE) on the test set: {mse:.2f}\")\n",
    "print(f\"R-squared (R²) on the test set: {r2:.2f}\")"
   ]
  },
  {
   "cell_type": "code",
   "execution_count": null,
   "metadata": {},
   "outputs": [],
   "source": []
  },
  {
   "cell_type": "code",
   "execution_count": null,
   "metadata": {},
   "outputs": [],
   "source": []
  },
  {
   "cell_type": "markdown",
   "metadata": {},
   "source": [
    "---"
   ]
  },
  {
   "cell_type": "markdown",
   "metadata": {},
   "source": [
    "# On-Time (1 point)"
   ]
  },
  {
   "cell_type": "markdown",
   "metadata": {},
   "source": [
    "Submit your assignment before the deadline."
   ]
  },
  {
   "cell_type": "markdown",
   "metadata": {},
   "source": [
    "___\n",
    "\n",
    "# Submit Your Solution\n",
    "\n",
    "Confirm that you've successfully completed the assignment.\n",
    "\n",
    "Along with the Notebook, include a PDF of the notebook with your solutions.\n",
    "\n",
    "```add``` and ```commit``` the final version of your work, and ```push``` your code to your GitHub repository.\n",
    "\n",
    "Submit the URL of your GitHub Repository as your assignment submission on Canvas.\n",
    "\n",
    "___"
   ]
  }
 ],
 "metadata": {
  "kernelspec": {
   "display_name": "Python 3 (ipykernel)",
   "language": "python",
   "name": "python3"
  },
  "language_info": {
   "codemirror_mode": {
    "name": "ipython",
    "version": 3
   },
   "file_extension": ".py",
   "mimetype": "text/x-python",
   "name": "python",
   "nbconvert_exporter": "python",
   "pygments_lexer": "ipython3",
   "version": "3.12.4"
  },
  "latex_envs": {
   "LaTeX_envs_menu_present": true,
   "autoclose": false,
   "autocomplete": true,
   "bibliofile": "biblio.bib",
   "cite_by": "apalike",
   "current_citInitial": 1,
   "eqLabelWithNumbers": true,
   "eqNumInitial": 1,
   "hotkeys": {
    "equation": "Ctrl-E",
    "itemize": "Ctrl-I"
   },
   "labels_anchors": false,
   "latex_user_defs": false,
   "report_style_numbering": false,
   "user_envs_cfg": false
  },
  "varInspector": {
   "cols": {
    "lenName": 16,
    "lenType": 16,
    "lenVar": 40
   },
   "kernels_config": {
    "python": {
     "delete_cmd_postfix": "",
     "delete_cmd_prefix": "del ",
     "library": "var_list.py",
     "varRefreshCmd": "print(var_dic_list())"
    },
    "r": {
     "delete_cmd_postfix": ") ",
     "delete_cmd_prefix": "rm(",
     "library": "var_list.r",
     "varRefreshCmd": "cat(var_dic_list()) "
    }
   },
   "types_to_exclude": [
    "module",
    "function",
    "builtin_function_or_method",
    "instance",
    "_Feature"
   ],
   "window_display": false
  },
  "widgets": {
   "application/vnd.jupyter.widget-state+json": {
    "state": {},
    "version_major": 2,
    "version_minor": 0
   }
  }
 },
 "nbformat": 4,
 "nbformat_minor": 4
}
